{
 "cells": [
  {
   "cell_type": "markdown",
   "metadata": {},
   "source": [
    "## Load dependencies and paths"
   ]
  },
  {
   "cell_type": "code",
   "execution_count": 1,
   "metadata": {
    "collapsed": true
   },
   "outputs": [],
   "source": [
    "import os\n",
    "import csv\n",
    "goeievraag = '/roaming/fkunnema/goeievraag/exp_similarity'\n",
    "testset_path = os.path.join(goeievraag, 'ranked_question_pairs2.csv')"
   ]
  },
  {
   "cell_type": "markdown",
   "metadata": {},
   "source": [
    "## Load seeded and unseeded instances"
   ]
  },
  {
   "cell_type": "code",
   "execution_count": 2,
   "metadata": {
    "collapsed": true
   },
   "outputs": [],
   "source": [
    "testset = []\n",
    "with open(testset_path) as f:\n",
    "    reader = csv.reader(f)\n",
    "    for row in reader:\n",
    "        testset.append(row)\n",
    "        \n",
    "path = os.path.join(goeievraag, 'unseeded_meta.csv')\n",
    "with open(path) as f:\n",
    "    unseeded_meta = f.read().split('\\n')\n",
    "\n",
    "path = os.path.join(goeievraag, 'unseeded_questions.tok.txt')\n",
    "with open(path) as f:\n",
    "    unseeded_questions = f.read().split('\\n')\n",
    "\n",
    "path = os.path.join(goeievraag, 'unseeded_questions.txt')\n",
    "with open(path) as f:\n",
    "    unseeded_questions_ = f.read().split('\\n')\n",
    "\n",
    "path = os.path.join(goeievraag, 'unseeded_answers.tok.txt')\n",
    "with open(path) as f:\n",
    "    unseeded_answers = f.read().split('\\n')\n",
    "\n",
    "path = os.path.join(goeievraag, 'unseeded_answers.txt')\n",
    "with open(path) as f:\n",
    "    unseeded_answers_ = f.read().split('\\n')\n",
    "\n",
    "path = os.path.join(goeievraag, 'unseeded_answers_meta.csv')\n",
    "with open(path) as f:\n",
    "    unseeded_answers_meta = f.read().split('\\n')\n",
    "\n",
    "path = os.path.join(goeievraag, 'unseeded_descriptions.txt')\n",
    "with open(path) as f:\n",
    "    unseeded_descriptions = f.read().split('\\n')"
   ]
  },
  {
   "cell_type": "markdown",
   "metadata": {},
   "source": [
    "## Extract the intersection between both instance groups and, from the result, select instances in which question and pairs have more than 2 tokens"
   ]
  },
  {
   "cell_type": "code",
   "execution_count": 3,
   "metadata": {
    "collapsed": true
   },
   "outputs": [],
   "source": [
    "train_meta = [unseeded_meta[0]]\n",
    "train_questions = []\n",
    "train_questions_ = []\n",
    "train_answers = []\n",
    "train_answers_ = []\n",
    "train_answers_meta = [unseeded_answers_meta[0]]\n",
    "train_descriptions = []\n",
    "\n",
    "for i, question in enumerate(unseeded_questions_):\n",
    "    f = list(filter(lambda testrow: testrow[1] == question, testset))\n",
    "    if len(f) == 0:\n",
    "        condition = len(unseeded_questions[i].split()) > 2 and len(unseeded_answers[i].split()) > 2\n",
    "        if condition:\n",
    "            train_meta.append(unseeded_meta[i+1])\n",
    "            train_questions.append(unseeded_questions[i])\n",
    "            train_questions_.append(unseeded_questions_[i])\n",
    "            train_answers.append(unseeded_answers[i])\n",
    "            train_answers_.append(unseeded_answers_[i])\n",
    "            train_answers_meta.append(unseeded_answers_meta[i+1])\n",
    "            train_descriptions.append(unseeded_descriptions[i])"
   ]
  },
  {
   "cell_type": "markdown",
   "metadata": {},
   "source": [
    "## Save train instances"
   ]
  },
  {
   "cell_type": "code",
   "execution_count": 4,
   "metadata": {
    "collapsed": true
   },
   "outputs": [],
   "source": [
    "path = os.path.join(goeievraag, 'train_meta.csv')\n",
    "with open(path, 'w') as f:\n",
    "    f.write('\\n'.join(train_meta))\n",
    "\n",
    "path = os.path.join(goeievraag, 'train_questions.tok.txt')\n",
    "with open(path, 'w') as f:\n",
    "    f.write('\\n'.join(train_questions))\n",
    "\n",
    "path = os.path.join(goeievraag, 'train_questions.txt')\n",
    "with open(path, 'w') as f:\n",
    "    f.write('\\n'.join(train_questions_))\n",
    "\n",
    "path = os.path.join(goeievraag, 'train_answers.tok.txt')\n",
    "with open(path, 'w') as f:\n",
    "    f.write('\\n'.join(train_answers))\n",
    "\n",
    "path = os.path.join(goeievraag, 'train_answers.txt')\n",
    "with open(path, 'w') as f:\n",
    "    f.write('\\n'.join(train_answers_))\n",
    "\n",
    "path = os.path.join(goeievraag, 'train_answers_meta.csv')\n",
    "with open(path, 'w') as f:\n",
    "    f.write('\\n'.join(train_answers_meta))\n",
    "\n",
    "path = os.path.join(goeievraag, 'train_descriptions.txt')\n",
    "with open(path, 'w') as f:\n",
    "    f.write('\\n'.join(train_descriptions))"
   ]
  },
  {
   "cell_type": "markdown",
   "metadata": {},
   "source": [
    "## Some numbers"
   ]
  },
  {
   "cell_type": "code",
   "execution_count": 5,
   "metadata": {},
   "outputs": [
    {
     "name": "stdout",
     "output_type": "stream",
     "text": [
      "unseeded_meta 509607\n",
      "unseeded_questions 509606\n",
      "unseeded_questions_ 509605\n",
      "unseeded_answers 509606\n",
      "unseeded_answers_ 509605\n",
      "unseeded_answers_meta 509607\n",
      "unseeded_descriptions 509605\n",
      "----------\n",
      "train_meta 497520\n",
      "train_questions 497519\n",
      "train_questions_ 497519\n",
      "train_answers 497519\n",
      "train_answers_ 497519\n",
      "train_answers_meta 497520\n",
      "train_descriptions 497519\n"
     ]
    }
   ],
   "source": [
    "print('unseeded_meta', str(len(unseeded_meta)))\n",
    "print('unseeded_questions', str(len(unseeded_questions)))\n",
    "print('unseeded_questions_', str(len(unseeded_questions_)))\n",
    "print('unseeded_answers', str(len(unseeded_answers)))\n",
    "print('unseeded_answers_', str(len(unseeded_answers_)))\n",
    "print('unseeded_answers_meta', str(len(unseeded_answers_meta)))\n",
    "print('unseeded_descriptions', str(len(unseeded_descriptions)))\n",
    "print(10 * '-')\n",
    "print('train_meta', str(len(train_meta)))\n",
    "print('train_questions', str(len(train_questions)))\n",
    "print('train_questions_', str(len(train_questions_)))\n",
    "print('train_answers', str(len(train_answers)))\n",
    "print('train_answers_', str(len(train_answers_)))\n",
    "print('train_answers_meta', str(len(train_answers_meta)))\n",
    "print('train_descriptions', str(len(train_descriptions)))"
   ]
  }
 ],
 "metadata": {
  "kernelspec": {
   "display_name": "Python 3",
   "language": "python",
   "name": "python3"
  },
  "language_info": {
   "codemirror_mode": {
    "name": "ipython",
    "version": 3.0
   },
   "file_extension": ".py",
   "mimetype": "text/x-python",
   "name": "python",
   "nbconvert_exporter": "python",
   "pygments_lexer": "ipython3",
   "version": "3.5.3"
  }
 },
 "nbformat": 4,
 "nbformat_minor": 0
}