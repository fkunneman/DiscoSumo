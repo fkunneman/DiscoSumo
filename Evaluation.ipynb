{
 "cells": [
  {
   "cell_type": "code",
   "execution_count": 1,
   "metadata": {
    "collapsed": true
   },
   "outputs": [],
   "source": [
    "import csv\n",
    "import numpy as np\n",
    "import os\n",
    "\n",
    "goeievraag = '/roaming/fkunnema/goeievraag/exp_similarity'"
   ]
  },
  {
   "cell_type": "code",
   "execution_count": 2,
   "metadata": {
    "collapsed": true
   },
   "outputs": [],
   "source": [
    "# precision at N\n",
    "def precision_N(y_real, y_pred, N):\n",
    "    assert N > 0\n",
    "    tp = len(list(filter(lambda y: y in y_real, y_pred[:N])))\n",
    "    return float(tp) / N\n",
    "\n",
    "# mean averaged precision\n",
    "def MAP(y_real, y_pred, N):\n",
    "    precisions = []\n",
    "    for i in range(1, N):\n",
    "        precisions.append(precision_N(y_real, y_pred, i))\n",
    "    \n",
    "    return np.mean(precisions)"
   ]
  },
  {
   "cell_type": "code",
   "execution_count": 3,
   "metadata": {
    "collapsed": true
   },
   "outputs": [],
   "source": [
    "# seed and unseed\n",
    "with open(os.path.join(goeievraag, 'seed_questions.txt')) as f:\n",
    "    _seed_questions = f.read().strip().split('\\n')\n",
    "with open(os.path.join(goeievraag, 'seed_questions.tok.txt')) as f:\n",
    "    seed_questions = f.read().strip().split('\\n')\n",
    "with open(os.path.join(goeievraag, 'unseeded_questions.txt')) as f:\n",
    "    _unseed_questions = f.read().strip().split('\\n')\n",
    "with open(os.path.join(goeievraag, 'unseeded_questions.tok.txt')) as f:\n",
    "    unseed_questions = f.read().strip().split('\\n')"
   ]
  },
  {
   "cell_type": "code",
   "execution_count": 4,
   "metadata": {},
   "outputs": [
    {
     "data": {
      "text/plain": [
       "'Waar vind ik een stopwatch met in te stellen alarm bv om de 3 minuten en displayverlichting'"
      ]
     },
     "execution_count": 4,
     "metadata": {},
     "output_type": "execute_result"
    }
   ],
   "source": [
    "seed_questions[0]"
   ]
  },
  {
   "cell_type": "code",
   "execution_count": 9,
   "metadata": {},
   "outputs": [
    {
     "name": "stdout",
     "output_type": "stream",
     "text": [
      "Element:  1100\t40\t 73\t 102\t 113\t115\t 149\t157\t 194\t 227\t\t273\t 294\t 313\t 319\t\t 346\t\t358\t\t 366\t 372\t 380\t\t 407\t411\t 429\t 440\t 444\t446\t 453\t\t 483\t497\t 512\t 516\t524\t534\t 555\t584\t606\t 609\t633\t 635\t 638\t667\t 674\t 717\t\t737\t 755\t763\t 765\t\t 786\t\t796\t 800\t\t 821\t\t886\t 888\t 900\t915\t 945\t975\t 988\t 996\t 999\t\t\t 1039\t 1041\t\t\t\n",
      "\n",
      "Seed Found: 1089\n",
      "Seed Not Found: 11\n",
      "Retrieval Found: 1086\n",
      "Retrieval Not Found: 14\n"
     ]
    }
   ],
   "source": [
    "# y_real\n",
    "real = []\n",
    "path = 'rankings/ranked_questions_annotated_FK_TCF_combined.csv'\n",
    "with open(path) as f:\n",
    "    reader = csv.reader(f)\n",
    "    for i, row in enumerate(reader):\n",
    "        if i > 0:\n",
    "            print('Element: ', i, end='\\t\\r')\n",
    "            seed, retrieval, score, florian, thiago, _, combined = row\n",
    "            y = {\n",
    "                'seed': seed,\n",
    "                'retrieval': retrieval,\n",
    "                'score': score,\n",
    "                'florian': florian,\n",
    "                'thiago': thiago,\n",
    "                'combined': combined\n",
    "            }\n",
    "            \n",
    "            y['seed_tok'] = ''\n",
    "            for j, candidate in enumerate(_seed_questions):\n",
    "                if seed.lower() == candidate.lower():\n",
    "                    y['seed_tok'] = seed_questions[j]\n",
    "                    break\n",
    "                    \n",
    "            y['retrieval_tok'] = ''\n",
    "            for j, candidate in enumerate(_unseed_questions):\n",
    "                if retrieval.lower() == candidate.lower():\n",
    "                    y['retrieval_tok'] = unseed_questions[j]\n",
    "                    break\n",
    "                    \n",
    "            real.append(y)\n",
    "\n",
    "y_seed, n_seed = 0,0\n",
    "y_unseed, n_unseed = 0,0\n",
    "for question in real:\n",
    "    if question['seed_tok'] != '':\n",
    "        y_seed += 1\n",
    "    else:\n",
    "        n_seed += 1\n",
    "        \n",
    "    if question['retrieval_tok'] != '':\n",
    "        y_unseed += 1\n",
    "    else:\n",
    "        n_unseed += 1\n",
    "\n",
    "print('\\n')\n",
    "print('Seed Found:', y_seed)\n",
    "print('Seed Not Found:', n_seed)\n",
    "\n",
    "print('Retrieval Found:', y_unseed)\n",
    "print('Retrieval Not Found:', n_unseed)"
   ]
  },
  {
   "cell_type": "code",
   "execution_count": 14,
   "metadata": {},
   "outputs": [],
   "source": [
    "# save gold ranking\n",
    "path = 'rankings/ranking.tok.csv'\n",
    "with open(path, 'w') as f:\n",
    "    writer = csv.writer(f, delimiter=',', quotechar='\\'', quoting=csv.QUOTE_MINIMAL)\n",
    "    for row in real:\n",
    "        writer.writerow([row['seed_tok'].lower(), row['retrieval_tok'].lower(), row['score'], row['florian'], row['thiago'], '', row['combined']])"
   ]
  },
  {
   "cell_type": "code",
   "execution_count": 14,
   "metadata": {
    "collapsed": true
   },
   "outputs": [],
   "source": [
    "# Language Model, Translation Model, Translation-based Language Model\n",
    "lm = []\n",
    "path = 'rankings/lmranking.csv'\n",
    "with open(path) as f:\n",
    "    reader = csv.reader(f)\n",
    "    for row in reader:\n",
    "        seed_tok, retrieval_tok, score = row\n",
    "        lm.append({\n",
    "            'seed_tok': seed_tok,\n",
    "            'retrieval_tok': retrieval_tok,\n",
    "            'score': float(score)\n",
    "        })\n",
    "        \n",
    "trm = []\n",
    "path = 'rankings/trmranking.csv'\n",
    "with open(path) as f:\n",
    "    reader = csv.reader(f)\n",
    "    for row in reader:\n",
    "        seed_tok, retrieval_tok, score = row\n",
    "        trm.append({\n",
    "            'seed_tok': seed_tok,\n",
    "            'retrieval_tok': retrieval_tok,\n",
    "            'score': float(score)\n",
    "        })\n",
    "        \n",
    "trlm = []\n",
    "path = 'rankings/trlmranking.csv'\n",
    "with open(path) as f:\n",
    "    reader = csv.reader(f)\n",
    "    for row in reader:\n",
    "        seed_tok, retrieval_tok, score = row\n",
    "        trlm.append({\n",
    "            'seed_tok': seed_tok,\n",
    "            'retrieval_tok': retrieval_tok,\n",
    "            'score': float(score)\n",
    "        })"
   ]
  },
  {
   "cell_type": "code",
   "execution_count": 24,
   "metadata": {},
   "outputs": [
    {
     "name": "stdout",
     "output_type": "stream",
     "text": [
      "Instances:  1100\n",
      "Relevant for Thiago:  222\n",
      "Relevant for Florian:  76\n",
      "Relevant for Both:  60\n",
      "Relevant for Seeds:  29\n"
     ]
    }
   ],
   "source": [
    "# Retrieve gold-standards according to Florian\n",
    "print('Instances: ', len(real))\n",
    "thiago = list(filter(lambda x: x['thiago']=='1', real))\n",
    "print('Relevant for Thiago: ', len(thiago))\n",
    "florian = list(filter(lambda x: x['florian']=='1', real))\n",
    "print('Relevant for Florian: ', len(florian))\n",
    "gold = list(filter(lambda x: x['combined']=='1', real))\n",
    "print('Relevant for Both: ', len(gold))\n",
    "\n",
    "seeds = list(set(map(lambda x: x['seed_tok'], gold)))\n",
    "print('Relevant for Seeds: ', len(seeds))"
   ]
  },
  {
   "cell_type": "code",
   "execution_count": 59,
   "metadata": {
    "scrolled": false
   },
   "outputs": [
    {
     "name": "stdout",
     "output_type": "stream",
     "text": [
      "5\n",
      "REAL\n",
      "iphone 4s batterij enorm snel leeg\n",
      "batterij iphone gaat snel leeg na aankoop action lader hoe kan dit\n",
      "batterij iphone 5s gaat snel leeg is dit een normaal batterij gebruik\n",
      "klopt dat door ios 6 je batterij sneller leeg gaat\n",
      "is het normaal dat de accu van mijn telefoon zo snel leeg is\n",
      "LM Precision: 0.0\n",
      "TRM Precision: 0.0\n",
      "TRLM Precision: 0.0\n",
      "----------\n"
     ]
    }
   ],
   "source": [
    "# lm evaluation\n",
    "for seed in seeds[6:7]:\n",
    "    f = filter(lambda x: x['seed_tok'].lower() == seed.lower(), gold)\n",
    "    y_real = list(map(lambda x: x['retrieval_tok'].lower(), f))\n",
    "    print(len(y_real))\n",
    "    \n",
    "    print('REAL')\n",
    "    for y in y_real:\n",
    "        print(y)\n",
    "    \n",
    "    f = filter(lambda x: x['seed_tok'].lower() == seed.lower(), lm)\n",
    "    f = sorted(map(lambda x: (x['retrieval_tok'].lower(), float(x['score'])), f), key=lambda x:x[1], reverse=True)\n",
    "    y_pred = list(map(lambda x: x[0], f))\n",
    "#     print('LM Precision:', precision_N(y_real, y_pred, 10))\n",
    "    \n",
    "    f = filter(lambda x: x['seed_tok'].lower() == seed.lower(), trm)\n",
    "    f = sorted(map(lambda x: (x['retrieval_tok'].lower(), float(x['score'])), f), key=lambda x:x[1], reverse=True)\n",
    "    y_pred = list(map(lambda x: x[0], f))\n",
    "#     print('TRM Precision:', precision_N(y_real, y_pred, 10))\n",
    "    \n",
    "    f = filter(lambda x: x['seed_tok'].lower() == seed.lower(), trlm)\n",
    "    f = sorted(map(lambda x: (x['retrieval_tok'].lower(), float(x['score'])), f), key=lambda x:x[1], reverse=True)\n",
    "    y_pred = list(map(lambda x: x[0], f))\n",
    "    print('TRLM Precision:', precision_N(y_real, y_pred, 10))\n",
    "    print(10 * '-')\n",
    "    "
   ]
  },
  {
   "cell_type": "code",
   "execution_count": 44,
   "metadata": {},
   "outputs": [
    {
     "name": "stdout",
     "output_type": "stream",
     "text": [
      "['wat houdt een behandeling met radioactief jodium in bij een kat met acute schildklierproblemen', 'bult verdikking onder mijn ribbenkast wat zou het kunnen zijn', 'waarom doen sommige mensen hun hand onder de kin als ze slapen', 'hoe weet je of je kat een tumor heeft inplaats van een vet bult', 'mijn kat heeft een bult op zijn rug een harde bult hij eet bijna niet meer en drinkt ook bijna niet meer ????????', 'hoe kom ik af van die rare bult onder mijn rug', 'ik heb een bult onder rechteroksel die er al een tijdje zit wat kan het zijn', 'wat is die bult onder tanden hij is pijnlijk en hard', 'waarom heeft een geit aan weerszijden van zijn mond onder zijn kin een zakje hangen hoe heten die zakjes', 'waarom ontstaat er een witte bult onder een blarenpleister']\n"
     ]
    },
    {
     "data": {
      "text/plain": [
       "['wat kan een bult op een kattenlip zijn']"
      ]
     },
     "execution_count": 44,
     "metadata": {},
     "output_type": "execute_result"
    }
   ],
   "source": [
    "\n"
   ]
  },
  {
   "cell_type": "code",
   "execution_count": null,
   "metadata": {
    "collapsed": true
   },
   "outputs": [],
   "source": []
  }
 ],
 "metadata": {
  "kernelspec": {
   "display_name": "Python 3",
   "language": "python",
   "name": "python3"
  },
  "language_info": {
   "codemirror_mode": {
    "name": "ipython",
    "version": 3
   },
   "file_extension": ".py",
   "mimetype": "text/x-python",
   "name": "python",
   "nbconvert_exporter": "python",
   "pygments_lexer": "ipython3",
   "version": "3.5.3"
  }
 },
 "nbformat": 4,
 "nbformat_minor": 2
}
